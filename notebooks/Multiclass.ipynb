{
  "cells": [
    {
      "cell_type": "code",
      "execution_count": null,
      "metadata": {
        "id": "CUJ2PdR98uP4",
        "colab": {
          "base_uri": "https://localhost:8080/"
        },
        "outputId": "50f9ca13-e0c4-482c-d148-c88be514096b"
      },
      "outputs": [
        {
          "output_type": "stream",
          "name": "stdout",
          "text": [
            "Mounted at /content/drive\n"
          ]
        }
      ],
      "source": [
        "!pip install -q split-folders\n",
        "import splitfolders\n",
        "import os\n",
        "import shutil\n",
        "import random\n",
        "import csv\n",
        "import cv2\n",
        "import glob\n",
        "import numpy as np\n",
        "import matplotlib.pyplot as plt\n",
        "from collections import Counter\n",
        "from sklearn.metrics import confusion_matrix\n",
        "import itertools\n",
        "from pathlib import Path\n",
        "import pandas as pd\n",
        "from PIL import Image\n",
        "from sklearn.metrics import mean_squared_error, mean_absolute_error\n",
        "from keras.applications import ResNet50, InceptionV3\n",
        "from tensorflow import keras as K\n",
        "from tensorflow.keras.applications.xception import Xception\n",
        "from keras import Model\n",
        "from keras.layers import Dense, Flatten, Dropout\n",
        "from keras.optimizers import Adam\n",
        "import tensorflow as tf\n",
        "from keras.preprocessing.image import ImageDataGenerator\n",
        "from tensorflow.keras.callbacks import EarlyStopping, ReduceLROnPlateau, ModelCheckpoint\n",
        "from tensorflow.keras.applications.vgg16 import VGG16\n",
        "from keras.models import load_model\n",
        "from keras import regularizers\n",
        "from google.colab import drive\n",
        "drive.mount('/content/drive')"
      ]
    },
    {
      "cell_type": "code",
      "source": [
        "# Set the path to the main folder and the destination folder\n",
        "destination_folder = '/content/drive/MyDrive/Multiclass'\n",
        "\n",
        "# Split the main folder into train and validation sets in a ratio\n",
        "def split():  \n",
        "    splitfolders.ratio('/content/drive/MyDrive/Multiclass/data_threshold', output = destination_folder,\n",
        "                       seed = 22, ratio = (0.7, 0.15, 0.15), group_prefix = None, move = False)\n",
        "\n",
        "if os.path.exists('/content/drive/MyDrive/Multiclass/train'):\n",
        "    print(\"Files already present in splitted ratio 0.7, 0.15 and 0.15\")\n",
        "else:\n",
        "    split()\n",
        "    print(\"Files are splitted in the ratio 0.7, 0.15 and 0.15\")"
      ],
      "metadata": {
        "id": "6hfkUoEahI4H"
      },
      "execution_count": null,
      "outputs": []
    },
    {
      "cell_type": "code",
      "source": [
        "train_dir = '/content/drive/MyDrive/Multiclass/train'\n",
        "val_dir = '/content/drive/MyDrive/Multiclass/val'\n",
        "test_dir = '/content/drive/MyDrive/Multiclass/test'\n",
        "\n",
        "train_labels = []\n",
        "train_counts = []\n",
        "val_labels = []\n",
        "val_counts = []\n",
        "test_labels = []\n",
        "test_counts = []\n",
        "\n",
        "for label in os.listdir(train_dir):\n",
        "    label_dir = os.path.join(train_dir, label)\n",
        "    if os.path.isdir(label_dir):\n",
        "        train_labels.append(label)\n",
        "        train_counts.append(len(os.listdir(label_dir)))\n",
        "\n",
        "for label in os.listdir(val_dir):\n",
        "    label_dir = os.path.join(val_dir, label)\n",
        "    if os.path.isdir(label_dir):\n",
        "        val_labels.append(label)\n",
        "        val_counts.append(len(os.listdir(label_dir)))\n",
        "\n",
        "fig, ax = plt.subplots()\n",
        "ax.bar(train_labels, train_counts, label = 'Train')\n",
        "ax.bar(val_labels, val_counts, label = 'Validation')\n",
        "ax.set_xlabel('Label')\n",
        "ax.set_ylabel('Number of Files')\n",
        "\n",
        "for i, v in enumerate(train_counts):\n",
        "    ax.text(i - 0.25, v + 10, str(v), fontweight = 'bold')\n",
        "for i, v in enumerate(val_counts):\n",
        "    ax.text(i + 0.25, v + 10, str(v), fontweight = 'bold') \n",
        "    \n",
        "    \n",
        "ax.legend()\n",
        "plt.show()"
      ],
      "metadata": {
        "colab": {
          "base_uri": "https://localhost:8080/",
          "height": 452
        },
        "id": "vKqKGKI7wnNx",
        "outputId": "5852cb09-3513-4bb3-a756-adfcdb89c520"
      },
      "execution_count": null,
      "outputs": [
        {
          "output_type": "display_data",
          "data": {
            "text/plain": [
              "<Figure size 640x480 with 1 Axes>"
            ],
            "image/png": "[encoded data removed]"
          },
          "metadata": {}
        }
      ]
    },
    {
      "cell_type": "code",
      "execution_count": null,
      "metadata": {
        "colab": {
          "base_uri": "https://localhost:8080/"
        },
        "id": "XBSNcuW6irtE",
        "outputId": "4a09b80c-53f2-4683-b4cb-b1e397244f59"
      },
      "outputs": [
        {
          "output_type": "stream",
          "name": "stdout",
          "text": [
            "Found 1316 images belonging to 5 classes.\n",
            "Found 280 images belonging to 5 classes.\n",
            "Found 288 images belonging to 5 classes.\n"
          ]
        }
      ],
      "source": [
        "train_datagen = ImageDataGenerator(rescale = 1./255, rotation_range = 10, fill_mode='constant', cval=0)\n",
        "train_generator = train_datagen.flow_from_directory(train_dir, target_size=(310, 310), batch_size=2, class_mode='categorical', shuffle=True)\n",
        "\n",
        "val_datagen = ImageDataGenerator(rescale=1./255)\n",
        "val_generator = val_datagen.flow_from_directory(val_dir, target_size=(310, 310), batch_size=1, class_mode='categorical', shuffle=False)\n",
        "\n",
        "test_datagen = ImageDataGenerator(rescale = 1./255)\n",
        "test_generator = test_datagen.flow_from_directory(test_dir, target_size=(310, 310), batch_size=1, class_mode='categorical', shuffle=False)"
      ]
    },
    {
      "cell_type": "markdown",
      "metadata": {
        "id": "4sch7oQcjyju"
      },
      "source": [
        "# **ResNet-50**"
      ]
    },
    {
      "cell_type": "code",
      "execution_count": null,
      "metadata": {
        "id": "IqzkBp6pAyhB",
        "colab": {
          "base_uri": "https://localhost:8080/"
        },
        "outputId": "d955d357-5cd7-4dcb-83fd-af496e638125"
      },
      "outputs": [
        {
          "output_type": "stream",
          "name": "stdout",
          "text": [
            "Downloading data from https://storage.googleapis.com/tensorflow/keras-applications/resnet/resnet50_weights_tf_dim_ordering_tf_kernels_notop.h5\n",
            "94765736/94765736 [==============================] - 3s 0us/step\n"
          ]
        }
      ],
      "source": [
        "# Load the ResNet50 model with pre-trained weights\n",
        "model = ResNet50(weights='imagenet', include_top=False, input_shape=(310,310,3), classes=5)\n",
        "\n",
        "# Freeze the layers of the model\n",
        "for layer in model.layers:\n",
        "    layer.trainable = False\n",
        "\n",
        "# Add a new fully connected layer with the desired number of classes\n",
        "#x = model.layers[-2].output\n",
        "x = Flatten()(model.output)\n",
        "x = Dense(256, activation='relu')(x)\n",
        "predictions = Dense(5, activation='softmax')(x)\n",
        "\n",
        "# Create a new model with the new output layer\n",
        "resnet50_model = Model(inputs=model.input, outputs=predictions)\n",
        "\n",
        "# Compile the model with a optimizer and loss function\n",
        "resnet50_model.compile(optimizer='adam', loss='categorical_crossentropy', metrics=['accuracy'])\n",
        "\n",
        "checkpoint = ModelCheckpoint('/content/drive/MyDrive/multiclass_resnet_best_weights.h5', monitor='val_accuracy', save_best_only=True, mode='max')\n",
        "\n",
        "# Create an early stopping callback\n",
        "early_stopping = EarlyStopping(monitor='val_loss', patience=10)\n",
        "\n",
        "# Create a ReduceLROnPlateau callback with a factor of 0.1\n",
        "lr_scheduler = ReduceLROnPlateau(factor=0.1, patience=5)\n",
        "\n",
        "# set the number os steps of each epoch\n",
        "validation_steps = val_generator.samples//1\n",
        "training_steps = train_generator.samples//2 "
      ]
    },
    {
      "cell_type": "code",
      "execution_count": null,
      "metadata": {
        "colab": {
          "base_uri": "https://localhost:8080/"
        },
        "id": "8jyz4nbYB-Rk",
        "outputId": "4092c5b5-d6c8-4d6a-ab64-02e91cc1deb3"
      },
      "outputs": [
        {
          "output_type": "stream",
          "name": "stdout",
          "text": [
            "Epoch 1/40\n",
            "658/658 [==============================] - 643s 959ms/step - loss: 9.8011 - accuracy: 0.2622 - val_loss: 1.6013 - val_accuracy: 0.2964 - lr: 0.0010\n",
            "Epoch 2/40\n",
            "658/658 [==============================] - 47s 71ms/step - loss: 1.6263 - accuracy: 0.2926 - val_loss: 1.5868 - val_accuracy: 0.2964 - lr: 0.0010\n",
            "Epoch 3/40\n",
            "658/658 [==============================] - 43s 66ms/step - loss: 1.5841 - accuracy: 0.2926 - val_loss: 1.5801 - val_accuracy: 0.2929 - lr: 0.0010\n",
            "Epoch 4/40\n",
            "658/658 [==============================] - 45s 68ms/step - loss: 1.5795 - accuracy: 0.2926 - val_loss: 1.5772 - val_accuracy: 0.2929 - lr: 0.0010\n",
            "Epoch 5/40\n",
            "658/658 [==============================] - 47s 72ms/step - loss: 1.5778 - accuracy: 0.2926 - val_loss: 1.5760 - val_accuracy: 0.2929 - lr: 0.0010\n",
            "Epoch 6/40\n",
            "658/658 [==============================] - 45s 69ms/step - loss: 1.5771 - accuracy: 0.2926 - val_loss: 1.5755 - val_accuracy: 0.2929 - lr: 0.0010\n",
            "Epoch 7/40\n",
            "658/658 [==============================] - 43s 66ms/step - loss: 1.5767 - accuracy: 0.2926 - val_loss: 1.5753 - val_accuracy: 0.2929 - lr: 0.0010\n",
            "Epoch 8/40\n",
            "658/658 [==============================] - 45s 69ms/step - loss: 1.6120 - accuracy: 0.2933 - val_loss: 1.5752 - val_accuracy: 0.2929 - lr: 0.0010\n",
            "Epoch 9/40\n",
            "658/658 [==============================] - 45s 69ms/step - loss: 1.5766 - accuracy: 0.2926 - val_loss: 1.5752 - val_accuracy: 0.2929 - lr: 0.0010\n",
            "Epoch 10/40\n",
            "658/658 [==============================] - 43s 66ms/step - loss: 1.5789 - accuracy: 0.2903 - val_loss: 1.5756 - val_accuracy: 0.2929 - lr: 0.0010\n",
            "Epoch 11/40\n",
            "658/658 [==============================] - 45s 69ms/step - loss: 1.5766 - accuracy: 0.2926 - val_loss: 1.5756 - val_accuracy: 0.2929 - lr: 0.0010\n",
            "Epoch 12/40\n",
            "658/658 [==============================] - 48s 72ms/step - loss: 1.5766 - accuracy: 0.2926 - val_loss: 1.5756 - val_accuracy: 0.2929 - lr: 0.0010\n",
            "Epoch 13/40\n",
            "658/658 [==============================] - 44s 66ms/step - loss: 1.5764 - accuracy: 0.2926 - val_loss: 1.5756 - val_accuracy: 0.2929 - lr: 0.0010\n",
            "Epoch 14/40\n",
            "658/658 [==============================] - 47s 72ms/step - loss: 1.5766 - accuracy: 0.2926 - val_loss: 1.5756 - val_accuracy: 0.2929 - lr: 0.0010\n",
            "Epoch 15/40\n",
            "658/658 [==============================] - 44s 67ms/step - loss: 1.5760 - accuracy: 0.2926 - val_loss: 1.5756 - val_accuracy: 0.2929 - lr: 1.0000e-04\n",
            "Epoch 16/40\n",
            "658/658 [==============================] - 43s 65ms/step - loss: 1.5760 - accuracy: 0.2926 - val_loss: 1.5756 - val_accuracy: 0.2929 - lr: 1.0000e-04\n",
            "Epoch 17/40\n",
            "658/658 [==============================] - 44s 67ms/step - loss: 1.5760 - accuracy: 0.2926 - val_loss: 1.5756 - val_accuracy: 0.2929 - lr: 1.0000e-04\n",
            "Epoch 18/40\n",
            "658/658 [==============================] - 44s 67ms/step - loss: 1.5760 - accuracy: 0.2926 - val_loss: 1.5756 - val_accuracy: 0.2929 - lr: 1.0000e-04\n",
            "Epoch 19/40\n",
            "658/658 [==============================] - 43s 66ms/step - loss: 1.5760 - accuracy: 0.2926 - val_loss: 1.5756 - val_accuracy: 0.2929 - lr: 1.0000e-04\n"
          ]
        }
      ],
      "source": [
        "history = resnet50_model.fit(train_generator, epochs = 40, validation_data = val_generator, callbacks = [checkpoint, lr_scheduler, early_stopping], verbose=1)"
      ]
    },
    {
      "cell_type": "code",
      "execution_count": null,
      "metadata": {
        "colab": {
          "base_uri": "https://localhost:8080/",
          "height": 489
        },
        "id": "XWFrVAhNxz6H",
        "outputId": "d1196684-ac37-4ebb-f84b-fe72328a99e5"
      },
      "outputs": [
        {
          "output_type": "stream",
          "name": "stdout",
          "text": [
            "0.2964285612106323\n"
          ]
        },
        {
          "output_type": "display_data",
          "data": {
            "text/plain": [
              "<Figure size 640x480 with 1 Axes>"
            ],
            "image/png": "[encoded data removed]"
          },
          "metadata": {}
        }
      ],
      "source": [
        "# Load the model from the file\n",
        "model = load_model('/content/drive/MyDrive/multiclass_resnet_best_weights.h5')\n",
        "\n",
        "# Extract the validation accuracy from the history object\n",
        "val_acc = history.history['val_accuracy']\n",
        "print(max(val_acc))\n",
        "\n",
        "# Plot the validation accuracy over the course of training\n",
        "plt.plot(val_acc)\n",
        "plt.title('Validation Accuracy')\n",
        "plt.xlabel('Epoch')\n",
        "plt.ylabel('Accuracy')\n",
        "plt.show()"
      ]
    },
    {
      "cell_type": "code",
      "source": [
        "test_generator.reset()\n",
        "test_predictions = model.predict(test_generator)\n",
        "\n",
        "label_map = dict((v, k) for k, v in test_generator.class_indices.items())\n",
        "print(label_map)\n",
        "\n",
        "actualLables_test = [label_map[k] for k in test_generator.classes]\n",
        "print(\"Length of actual validation labels:\", len(actualLables_test))\n",
        "\n",
        "# Convert the predictions to a one-hot encoded format\n",
        "test_predictions = np.argmax(test_predictions, axis = 1)\n",
        "predictedLables_test = [label_map[k] for k in test_predictions]\n",
        "\n",
        "# Calculate the confusion matrix\n",
        "from sklearn.metrics import confusion_matrix as sk_confusion_matrix\n",
        "confusion_matrix = sk_confusion_matrix(actualLables_test, predictedLables_test)\n",
        "\n",
        "print(confusion_matrix)\n",
        "\n",
        "test_loss, test_accuracy=model.evaluate(test_generator, batch_size=1)\n",
        "print(f\"Test Loss:     {test_loss}\")\n",
        "print(f\"Test Accuracy: {test_accuracy}\")"
      ],
      "metadata": {
        "colab": {
          "base_uri": "https://localhost:8080/"
        },
        "id": "f31wbiLPykJs",
        "outputId": "e030af83-be72-4382-afaa-18af60afcbf8"
      },
      "execution_count": null,
      "outputs": [
        {
          "output_type": "stream",
          "name": "stdout",
          "text": [
            "288/288 [==============================] - 128s 444ms/step\n",
            "{0: 'CS', 1: 'D', 2: 'DD', 3: 'SevereCS', 4: 'VSCS'}\n",
            "Length of actual validation labels: 288\n",
            "[[ 0  0 62  0  0]\n",
            " [ 0  0 55  0  0]\n",
            " [ 0  0 83  0  0]\n",
            " [ 0  0 41  0  0]\n",
            " [ 0  0 47  0  0]]\n",
            "288/288 [==============================] - 5s 16ms/step - loss: 1.6021 - accuracy: 0.2882\n",
            "Test Loss:     1.6021482944488525\n",
            "Test Accuracy: 0.2881944477558136\n"
          ]
        }
      ]
    },
    {
      "cell_type": "markdown",
      "metadata": {
        "id": "qcWuBDRij1pB"
      },
      "source": [
        "# **Inceptionv3**"
      ]
    },
    {
      "cell_type": "code",
      "execution_count": null,
      "metadata": {
        "colab": {
          "base_uri": "https://localhost:8080/"
        },
        "id": "zD_iy0IFhLsh",
        "outputId": "1a51d716-8582-47c5-cd4c-c8abdd62c28d"
      },
      "outputs": [
        {
          "output_type": "stream",
          "name": "stdout",
          "text": [
            "Downloading data from https://storage.googleapis.com/tensorflow/keras-applications/inception_v3/inception_v3_weights_tf_dim_ordering_tf_kernels_notop.h5\n",
            "87910968/87910968 [==============================] - 3s 0us/step\n"
          ]
        }
      ],
      "source": [
        "# Load the InceptionV3 model with pre-trained weights\n",
        "model = InceptionV3(input_shape = (310, 310, 3), weights = 'imagenet', include_top = False, classes=5)\n",
        "for layer in model.layers[:249]:\n",
        "   layer.trainable = False\n",
        "for layer in model.layers[249:]:\n",
        "   layer.trainable = True\n",
        "\n",
        "InceptionV3_last_output = model.output\n",
        "InceptionV3_maxpooled_output = Flatten()(InceptionV3_last_output)\n",
        "InceptionV3_x = Dense(1024, activation = 'relu')(InceptionV3_maxpooled_output)\n",
        "InceptionV3_x = Dropout(0.5)(InceptionV3_x)\n",
        "InceptionV3_x = Dense(5, activation = 'softmax')(InceptionV3_x)\n",
        "inceptionv3_model = Model(inputs = model.input, outputs = InceptionV3_x)\n",
        "\n",
        "# Compile the model with a optimizer and loss function\n",
        "inceptionv3_model.compile(optimizer='adam', loss='categorical_crossentropy', metrics=['accuracy'])\n",
        "\n",
        "checkpoint = ModelCheckpoint('/content/drive/MyDrive/multiclass_inceptionv3_best_weights.h5',  # File to save the weights to\n",
        "                             monitor='val_accuracy', save_best_only=True, mode='max')\n",
        "\n",
        "# Create an early stopping callback\n",
        "early_stopping = EarlyStopping(monitor='val_loss', patience=10)\n",
        "\n",
        "# Create a ReduceLROnPlateau callback with a factor of 0.1\n",
        "lr_scheduler = ReduceLROnPlateau(factor=0.1, patience=5)"
      ]
    },
    {
      "cell_type": "code",
      "execution_count": null,
      "metadata": {
        "colab": {
          "base_uri": "https://localhost:8080/"
        },
        "id": "2UcUdKNTxkhW",
        "outputId": "80711d63-92a6-404a-e857-ff2d5bc58135"
      },
      "outputs": [
        {
          "output_type": "stream",
          "name": "stdout",
          "text": [
            "Epoch 1/40\n",
            "658/658 [==============================] - 77s 95ms/step - loss: 6.1089 - accuracy: 0.2629 - val_loss: 1.5568 - val_accuracy: 0.3214 - lr: 0.0010\n",
            "Epoch 2/40\n",
            "658/658 [==============================] - 72s 110ms/step - loss: 1.5321 - accuracy: 0.3184 - val_loss: 1.4144 - val_accuracy: 0.3286 - lr: 0.0010\n",
            "Epoch 3/40\n",
            "658/658 [==============================] - 70s 106ms/step - loss: 1.5106 - accuracy: 0.3343 - val_loss: 1.4012 - val_accuracy: 0.3964 - lr: 0.0010\n",
            "Epoch 4/40\n",
            "658/658 [==============================] - 54s 82ms/step - loss: 1.4752 - accuracy: 0.3465 - val_loss: 1.4160 - val_accuracy: 0.3750 - lr: 0.0010\n",
            "Epoch 5/40\n",
            "658/658 [==============================] - 50s 76ms/step - loss: 1.4666 - accuracy: 0.3435 - val_loss: 1.3938 - val_accuracy: 0.3107 - lr: 0.0010\n",
            "Epoch 6/40\n",
            "658/658 [==============================] - 51s 78ms/step - loss: 1.4451 - accuracy: 0.3967 - val_loss: 1.6704 - val_accuracy: 0.3500 - lr: 0.0010\n",
            "Epoch 7/40\n",
            "658/658 [==============================] - 50s 76ms/step - loss: 1.3635 - accuracy: 0.3989 - val_loss: 1.6086 - val_accuracy: 0.3071 - lr: 0.0010\n",
            "Epoch 8/40\n",
            "658/658 [==============================] - 49s 75ms/step - loss: 1.4864 - accuracy: 0.3883 - val_loss: 1.5332 - val_accuracy: 0.3929 - lr: 0.0010\n",
            "Epoch 9/40\n",
            "658/658 [==============================] - 68s 104ms/step - loss: 1.3114 - accuracy: 0.3944 - val_loss: 1.3504 - val_accuracy: 0.4179 - lr: 0.0010\n",
            "Epoch 10/40\n",
            "658/658 [==============================] - 55s 83ms/step - loss: 1.2696 - accuracy: 0.4263 - val_loss: 1.4254 - val_accuracy: 0.3464 - lr: 0.0010\n",
            "Epoch 11/40\n",
            "658/658 [==============================] - 51s 77ms/step - loss: 1.2397 - accuracy: 0.4331 - val_loss: 1.5430 - val_accuracy: 0.4036 - lr: 0.0010\n",
            "Epoch 12/40\n",
            "658/658 [==============================] - 49s 75ms/step - loss: 1.2368 - accuracy: 0.4810 - val_loss: 1.3914 - val_accuracy: 0.3929 - lr: 0.0010\n",
            "Epoch 13/40\n",
            "658/658 [==============================] - 68s 104ms/step - loss: 1.2038 - accuracy: 0.4757 - val_loss: 1.5300 - val_accuracy: 0.4321 - lr: 0.0010\n",
            "Epoch 14/40\n",
            "658/658 [==============================] - 70s 106ms/step - loss: 1.1436 - accuracy: 0.4954 - val_loss: 1.2842 - val_accuracy: 0.4357 - lr: 0.0010\n",
            "Epoch 15/40\n",
            "658/658 [==============================] - 54s 82ms/step - loss: 1.1184 - accuracy: 0.5122 - val_loss: 1.2779 - val_accuracy: 0.4036 - lr: 0.0010\n",
            "Epoch 16/40\n",
            "658/658 [==============================] - 64s 98ms/step - loss: 1.0657 - accuracy: 0.5357 - val_loss: 1.3757 - val_accuracy: 0.4464 - lr: 0.0010\n",
            "Epoch 17/40\n",
            "658/658 [==============================] - 55s 84ms/step - loss: 0.9897 - accuracy: 0.5676 - val_loss: 2.0084 - val_accuracy: 0.3643 - lr: 0.0010\n",
            "Epoch 18/40\n",
            "658/658 [==============================] - 51s 77ms/step - loss: 0.9981 - accuracy: 0.5570 - val_loss: 1.4857 - val_accuracy: 0.4357 - lr: 0.0010\n",
            "Epoch 19/40\n",
            "658/658 [==============================] - 52s 79ms/step - loss: 0.9648 - accuracy: 0.5699 - val_loss: 1.5811 - val_accuracy: 0.4357 - lr: 0.0010\n",
            "Epoch 20/40\n",
            "658/658 [==============================] - 67s 101ms/step - loss: 0.9390 - accuracy: 0.5980 - val_loss: 1.4457 - val_accuracy: 0.4500 - lr: 0.0010\n",
            "Epoch 21/40\n",
            "658/658 [==============================] - 70s 107ms/step - loss: 0.7707 - accuracy: 0.6733 - val_loss: 1.4348 - val_accuracy: 0.5036 - lr: 1.0000e-04\n",
            "Epoch 22/40\n",
            "658/658 [==============================] - 56s 85ms/step - loss: 0.7036 - accuracy: 0.7067 - val_loss: 1.4863 - val_accuracy: 0.4964 - lr: 1.0000e-04\n",
            "Epoch 23/40\n",
            "658/658 [==============================] - 50s 76ms/step - loss: 0.6481 - accuracy: 0.7356 - val_loss: 1.4776 - val_accuracy: 0.4857 - lr: 1.0000e-04\n",
            "Epoch 24/40\n",
            "658/658 [==============================] - 51s 78ms/step - loss: 0.5713 - accuracy: 0.7485 - val_loss: 1.6117 - val_accuracy: 0.4714 - lr: 1.0000e-04\n",
            "Epoch 25/40\n",
            "658/658 [==============================] - 53s 80ms/step - loss: 0.5654 - accuracy: 0.7728 - val_loss: 1.5883 - val_accuracy: 0.4821 - lr: 1.0000e-04\n"
          ]
        }
      ],
      "source": [
        "history = inceptionv3_model.fit(train_generator, epochs = 40, validation_data = val_generator, callbacks = [checkpoint, lr_scheduler, early_stopping], verbose=1)"
      ]
    },
    {
      "cell_type": "code",
      "execution_count": null,
      "metadata": {
        "colab": {
          "base_uri": "https://localhost:8080/",
          "height": 489
        },
        "id": "SY8plhjgLY0j",
        "outputId": "07008dfc-563f-46d9-92ed-68d36f50159e"
      },
      "outputs": [
        {
          "output_type": "stream",
          "name": "stdout",
          "text": [
            "0.5035714507102966\n"
          ]
        },
        {
          "output_type": "display_data",
          "data": {
            "text/plain": [
              "<Figure size 640x480 with 1 Axes>"
            ],
            "image/png": "[encoded data removed]"
          },
          "metadata": {}
        }
      ],
      "source": [
        "# Load the model from the file\n",
        "model = load_model('/content/drive/MyDrive/multiclass_inceptionv3_best_weights.h5')\n",
        "\n",
        "# Extract the validation accuracy from the history object\n",
        "val_acc = history.history['val_accuracy']\n",
        "print(max(val_acc))\n",
        "\n",
        "# Plot the validation accuracy over the course of training\n",
        "plt.plot(val_acc)\n",
        "plt.title('Validation Accuracy')\n",
        "plt.xlabel('Epoch')\n",
        "plt.ylabel('Accuracy')\n",
        "plt.show()"
      ]
    },
    {
      "cell_type": "code",
      "source": [
        "test_generator.reset()\n",
        "test_predictions = model.predict(test_generator)\n",
        "\n",
        "label_map = dict((v, k) for k, v in test_generator.class_indices.items())\n",
        "print(label_map)\n",
        "\n",
        "actualLables_test = [label_map[k] for k in test_generator.classes]\n",
        "print(\"Length of actual validation labels:\", len(actualLables_test))\n",
        "\n",
        "# Convert the predictions to a one-hot encoded format\n",
        "test_predictions = np.argmax(test_predictions, axis = 1)\n",
        "predictedLables_test = [label_map[k] for k in test_predictions]\n",
        "\n",
        "# Calculate the confusion matrix\n",
        "from sklearn.metrics import confusion_matrix as sk_confusion_matrix\n",
        "confusion_matrix = sk_confusion_matrix(actualLables_test, predictedLables_test)\n",
        "\n",
        "print(confusion_matrix)\n",
        "\n",
        "test_loss, test_accuracy=model.evaluate(test_generator, batch_size=1)\n",
        "print(f\"Test Loss:     {test_loss}\")\n",
        "print(f\"Test Accuracy: {test_accuracy}\")"
      ],
      "metadata": {
        "colab": {
          "base_uri": "https://localhost:8080/"
        },
        "id": "JGwgR6gD8E00",
        "outputId": "bb4c8fb7-6d74-44ca-eeac-48a0791f7fab"
      },
      "execution_count": null,
      "outputs": [
        {
          "output_type": "stream",
          "name": "stdout",
          "text": [
            "288/288 [==============================] - 6s 18ms/step\n",
            "{0: 'CS', 1: 'D', 2: 'DD', 3: 'SevereCS', 4: 'VSCS'}\n",
            "Length of actual validation labels: 288\n",
            "[[31  3 13  5 10]\n",
            " [ 9 22 23  1  0]\n",
            " [22 13 46  1  1]\n",
            " [18  0  2 13  8]\n",
            " [ 8  0  1  7 31]]\n",
            "288/288 [==============================] - 6s 18ms/step - loss: 1.3390 - accuracy: 0.4965\n",
            "Test Loss:     1.3389840126037598\n",
            "Test Accuracy: 0.4965277910232544\n"
          ]
        }
      ]
    },
    {
      "cell_type": "markdown",
      "metadata": {
        "id": "e3fga-CjydvF"
      },
      "source": [
        "# **Xception**"
      ]
    },
    {
      "cell_type": "code",
      "execution_count": null,
      "metadata": {
        "id": "oN4S-aMLyc_Z",
        "colab": {
          "base_uri": "https://localhost:8080/"
        },
        "outputId": "f763f536-fae3-42f8-dc43-637c4f776a68"
      },
      "outputs": [
        {
          "output_type": "stream",
          "name": "stdout",
          "text": [
            "Downloading data from https://storage.googleapis.com/tensorflow/keras-applications/xception/xception_weights_tf_dim_ordering_tf_kernels_notop.h5\n",
            "83683744/83683744 [==============================] - 3s 0us/step\n"
          ]
        }
      ],
      "source": [
        "xception_model = Xception(include_top = False, weights = \"imagenet\", input_shape = (310, 310, 3), classes=5)\n",
        "\n",
        "x = Flatten()(xception_model.output)\n",
        "x = Dropout(0.5)(x)\n",
        "x = Dense(512, activation = 'relu')(x)\n",
        "x = Dropout(0.5)(x)\n",
        "x = Dense(512, activation = 'relu')(x)\n",
        "x = Dense(5, activation = 'softmax')(x)\n",
        "\n",
        "xception_model = Model(inputs = xception_model.input, outputs = x)\n",
        "\n",
        "# Compile the model with a optimizer and loss function\n",
        "xception_model.compile(optimizer='adam', loss='categorical_crossentropy', metrics=['accuracy'])\n",
        "\n",
        "checkpoint = ModelCheckpoint('/content/drive/MyDrive/multiclass_xception_best_weights.h5',  # File to save the weights to\n",
        "                             monitor='val_accuracy',  # Metric to monitor\n",
        "                             save_best_only=True,  # Save only the best weights\n",
        "                             mode='max')\n",
        "\n",
        "# Create an early stopping callback\n",
        "early_stopping = EarlyStopping(monitor='val_loss', patience=10)\n",
        "\n",
        "# Create a ReduceLROnPlateau callback with a factor of 0.1\n",
        "lr_scheduler = ReduceLROnPlateau(factor=0.1, patience=5)"
      ]
    },
    {
      "cell_type": "code",
      "execution_count": null,
      "metadata": {
        "colab": {
          "base_uri": "https://localhost:8080/"
        },
        "id": "rXfRLmQJy7u4",
        "outputId": "06b15183-2f92-43c2-c21c-8b1104e5413b"
      },
      "outputs": [
        {
          "output_type": "stream",
          "name": "stdout",
          "text": [
            "Epoch 1/40\n",
            "658/658 [==============================] - 109s 117ms/step - loss: 1.7280 - accuracy: 0.2447 - val_loss: 1.6618 - val_accuracy: 0.2000 - lr: 0.0010\n",
            "Epoch 2/40\n",
            "658/658 [==============================] - 80s 121ms/step - loss: 1.6246 - accuracy: 0.2652 - val_loss: 1.6644 - val_accuracy: 0.2500 - lr: 0.0010\n",
            "Epoch 3/40\n",
            "658/658 [==============================] - 75s 114ms/step - loss: 1.7483 - accuracy: 0.2416 - val_loss: 1.5845 - val_accuracy: 0.2679 - lr: 0.0010\n",
            "Epoch 4/40\n",
            "658/658 [==============================] - 79s 120ms/step - loss: 1.6024 - accuracy: 0.2819 - val_loss: 1.5823 - val_accuracy: 0.3000 - lr: 0.0010\n",
            "Epoch 5/40\n",
            "658/658 [==============================] - 66s 100ms/step - loss: 1.5966 - accuracy: 0.2774 - val_loss: 1.6002 - val_accuracy: 0.2929 - lr: 0.0010\n",
            "Epoch 6/40\n",
            "658/658 [==============================] - 69s 105ms/step - loss: 1.5883 - accuracy: 0.2857 - val_loss: 1.6754 - val_accuracy: 0.2929 - lr: 0.0010\n",
            "Epoch 7/40\n",
            "658/658 [==============================] - 68s 103ms/step - loss: 1.6069 - accuracy: 0.2812 - val_loss: 1.5801 - val_accuracy: 0.2929 - lr: 0.0010\n",
            "Epoch 8/40\n",
            "658/658 [==============================] - 69s 105ms/step - loss: 1.6026 - accuracy: 0.2796 - val_loss: 50.2788 - val_accuracy: 0.1929 - lr: 0.0010\n",
            "Epoch 9/40\n",
            "658/658 [==============================] - 67s 102ms/step - loss: 1.7440 - accuracy: 0.2682 - val_loss: 1.5765 - val_accuracy: 0.2929 - lr: 0.0010\n",
            "Epoch 10/40\n",
            "658/658 [==============================] - 71s 108ms/step - loss: 1.6118 - accuracy: 0.2819 - val_loss: 1.5768 - val_accuracy: 0.2929 - lr: 0.0010\n",
            "Epoch 11/40\n",
            "658/658 [==============================] - 68s 103ms/step - loss: 1.5926 - accuracy: 0.2895 - val_loss: 1.5767 - val_accuracy: 0.2929 - lr: 0.0010\n",
            "Epoch 12/40\n",
            "658/658 [==============================] - 74s 113ms/step - loss: 1.5972 - accuracy: 0.2903 - val_loss: 1.7182 - val_accuracy: 0.2893 - lr: 0.0010\n",
            "Epoch 13/40\n",
            "658/658 [==============================] - 70s 107ms/step - loss: 1.6010 - accuracy: 0.2865 - val_loss: 1.5820 - val_accuracy: 0.2929 - lr: 0.0010\n",
            "Epoch 14/40\n",
            "658/658 [==============================] - 69s 105ms/step - loss: 1.5949 - accuracy: 0.2880 - val_loss: 1.5763 - val_accuracy: 0.2929 - lr: 0.0010\n",
            "Epoch 15/40\n",
            "658/658 [==============================] - 69s 105ms/step - loss: 1.5786 - accuracy: 0.2880 - val_loss: 1.5759 - val_accuracy: 0.2929 - lr: 0.0010\n",
            "Epoch 16/40\n",
            "658/658 [==============================] - 68s 104ms/step - loss: 1.5889 - accuracy: 0.2888 - val_loss: 1.5758 - val_accuracy: 0.2929 - lr: 0.0010\n",
            "Epoch 17/40\n",
            "658/658 [==============================] - 69s 104ms/step - loss: 1.6118 - accuracy: 0.2956 - val_loss: 77.5332 - val_accuracy: 0.1929 - lr: 0.0010\n",
            "Epoch 18/40\n",
            "658/658 [==============================] - 67s 102ms/step - loss: 1.7042 - accuracy: 0.2865 - val_loss: 1.6334 - val_accuracy: 0.2893 - lr: 0.0010\n",
            "Epoch 19/40\n",
            "658/658 [==============================] - 71s 108ms/step - loss: 1.5937 - accuracy: 0.2888 - val_loss: 1.5740 - val_accuracy: 0.3000 - lr: 0.0010\n",
            "Epoch 20/40\n",
            "658/658 [==============================] - 67s 102ms/step - loss: 1.6081 - accuracy: 0.2812 - val_loss: 1.5759 - val_accuracy: 0.2929 - lr: 0.0010\n",
            "Epoch 21/40\n",
            "658/658 [==============================] - 69s 104ms/step - loss: 1.6049 - accuracy: 0.2857 - val_loss: 2.2434 - val_accuracy: 0.2786 - lr: 0.0010\n",
            "Epoch 22/40\n",
            "658/658 [==============================] - 68s 103ms/step - loss: 1.6362 - accuracy: 0.2796 - val_loss: 1.5765 - val_accuracy: 0.2929 - lr: 0.0010\n",
            "Epoch 23/40\n",
            "658/658 [==============================] - 67s 101ms/step - loss: 1.5877 - accuracy: 0.2872 - val_loss: 1.5698 - val_accuracy: 0.2964 - lr: 0.0010\n",
            "Epoch 24/40\n",
            "658/658 [==============================] - 65s 99ms/step - loss: 1.5890 - accuracy: 0.2888 - val_loss: 1.7154 - val_accuracy: 0.2929 - lr: 0.0010\n",
            "Epoch 25/40\n",
            "658/658 [==============================] - 67s 102ms/step - loss: 1.5872 - accuracy: 0.2888 - val_loss: 1.5757 - val_accuracy: 0.2929 - lr: 0.0010\n",
            "Epoch 26/40\n",
            "658/658 [==============================] - 64s 98ms/step - loss: 1.5820 - accuracy: 0.2926 - val_loss: 1.5755 - val_accuracy: 0.2929 - lr: 0.0010\n",
            "Epoch 27/40\n",
            "658/658 [==============================] - 68s 104ms/step - loss: 1.6138 - accuracy: 0.2971 - val_loss: 1.5800 - val_accuracy: 0.2893 - lr: 0.0010\n",
            "Epoch 28/40\n",
            "658/658 [==============================] - 67s 101ms/step - loss: 1.5811 - accuracy: 0.2865 - val_loss: 1.5740 - val_accuracy: 0.2964 - lr: 0.0010\n",
            "Epoch 29/40\n",
            "658/658 [==============================] - 65s 98ms/step - loss: 1.5792 - accuracy: 0.2918 - val_loss: 1.5756 - val_accuracy: 0.2929 - lr: 1.0000e-04\n",
            "Epoch 30/40\n",
            "658/658 [==============================] - 68s 104ms/step - loss: 1.5793 - accuracy: 0.2941 - val_loss: 1.5748 - val_accuracy: 0.2929 - lr: 1.0000e-04\n",
            "Epoch 31/40\n",
            "658/658 [==============================] - 64s 97ms/step - loss: 1.5784 - accuracy: 0.2926 - val_loss: 1.5756 - val_accuracy: 0.2929 - lr: 1.0000e-04\n",
            "Epoch 32/40\n",
            "658/658 [==============================] - 67s 101ms/step - loss: 1.5763 - accuracy: 0.2926 - val_loss: 1.5756 - val_accuracy: 0.2929 - lr: 1.0000e-04\n",
            "Epoch 33/40\n",
            "658/658 [==============================] - 65s 98ms/step - loss: 1.5770 - accuracy: 0.2910 - val_loss: 1.5756 - val_accuracy: 0.2929 - lr: 1.0000e-04\n"
          ]
        }
      ],
      "source": [
        "history = xception_model.fit(train_generator, epochs = 40, validation_data = val_generator, callbacks = [checkpoint, lr_scheduler, early_stopping], verbose=1)"
      ]
    },
    {
      "cell_type": "code",
      "execution_count": null,
      "metadata": {
        "colab": {
          "base_uri": "https://localhost:8080/",
          "height": 489
        },
        "id": "Rze3inNPx-zh",
        "outputId": "6e839129-d705-43c5-d524-62f206c47b73"
      },
      "outputs": [
        {
          "output_type": "stream",
          "name": "stdout",
          "text": [
            "0.30000001192092896\n"
          ]
        },
        {
          "output_type": "display_data",
          "data": {
            "text/plain": [
              "<Figure size 640x480 with 1 Axes>"
            ],
            "image/png": "[encoded data removed]"
          },
          "metadata": {}
        }
      ],
      "source": [
        "# Load the model from the file\n",
        "model = load_model('/content/drive/MyDrive/multiclass_xception_best_weights.h5')\n",
        "\n",
        "# Extract the validation accuracy from the history object\n",
        "val_acc = history.history['val_accuracy']\n",
        "print(max(val_acc))\n",
        "\n",
        "# Plot the validation accuracy over the course of training\n",
        "plt.plot(val_acc)\n",
        "plt.title('Validation Accuracy')\n",
        "plt.xlabel('Epoch')\n",
        "plt.ylabel('Accuracy')\n",
        "plt.show()"
      ]
    },
    {
      "cell_type": "code",
      "source": [
        "test_generator.reset()\n",
        "test_predictions = model.predict(test_generator)\n",
        "\n",
        "label_map = dict((v, k) for k, v in test_generator.class_indices.items())\n",
        "print(label_map)\n",
        "\n",
        "actualLables_test = [label_map[k] for k in test_generator.classes]\n",
        "print(\"Length of actual validation labels:\", len(actualLables_test))\n",
        "\n",
        "# Convert the predictions to a one-hot encoded format\n",
        "test_predictions = np.argmax(test_predictions, axis = 1)\n",
        "predictedLables_test = [label_map[k] for k in test_predictions]\n",
        "\n",
        "# Calculate the confusion matrix\n",
        "from sklearn.metrics import confusion_matrix as sk_confusion_matrix\n",
        "confusion_matrix = sk_confusion_matrix(actualLables_test, predictedLables_test)\n",
        "\n",
        "print(confusion_matrix)\n",
        "\n",
        "test_loss, test_accuracy=model.evaluate(test_generator, batch_size=1)\n",
        "print(f\"Test Loss:     {test_loss}\")\n",
        "print(f\"Test Accuracy: {test_accuracy}\")"
      ],
      "metadata": {
        "colab": {
          "base_uri": "https://localhost:8080/"
        },
        "id": "VKT0cSt8C0vD",
        "outputId": "c4ce24d0-09d4-4c5a-a02c-a1cdf61024fb"
      },
      "execution_count": null,
      "outputs": [
        {
          "output_type": "stream",
          "name": "stdout",
          "text": [
            "288/288 [==============================] - 4s 13ms/step\n",
            "{0: 'CS', 1: 'D', 2: 'DD', 3: 'SevereCS', 4: 'VSCS'}\n",
            "Length of actual validation labels: 288\n",
            "[[ 0  0 60  0  2]\n",
            " [ 0  0 55  0  0]\n",
            " [ 0  0 83  0  0]\n",
            " [ 0  0 40  0  1]\n",
            " [ 0  0 47  0  0]]\n",
            "288/288 [==============================] - 6s 19ms/step - loss: 1.5935 - accuracy: 0.2882\n",
            "Test Loss:     1.5935301780700684\n",
            "Test Accuracy: 0.2881944477558136\n"
          ]
        }
      ]
    },
    {
      "cell_type": "markdown",
      "metadata": {
        "id": "T4vW7xxdSb6R"
      },
      "source": [
        "# **VGG-16**"
      ]
    },
    {
      "cell_type": "code",
      "execution_count": null,
      "metadata": {
        "colab": {
          "base_uri": "https://localhost:8080/"
        },
        "id": "5gS4ogxJSe2s",
        "outputId": "cc1729a3-f6c6-4f02-e009-89a3947e25a7"
      },
      "outputs": [
        {
          "output_type": "stream",
          "name": "stdout",
          "text": [
            "Downloading data from https://storage.googleapis.com/tensorflow/keras-applications/vgg16/vgg16_weights_tf_dim_ordering_tf_kernels_notop.h5\n",
            "58889256/58889256 [==============================] - 2s 0us/step\n"
          ]
        }
      ],
      "source": [
        "vgg16_model = VGG16(pooling = 'avg', weights = 'imagenet', include_top = False, input_shape = (310, 310, 3))\n",
        "\n",
        "for layers in vgg16_model.layers:\n",
        "    layers.trainable = False\n",
        "\n",
        "last_output = vgg16_model.layers[-1].output\n",
        "\n",
        "vgg_x = Flatten()(last_output)\n",
        "vgg_x = Dense(128, activation = 'relu')(vgg_x)\n",
        "vgg_x = Dense(5, activation = 'softmax')(vgg_x)\n",
        "\n",
        "vgg16_model = Model(vgg16_model.input, vgg_x)\n",
        "\n",
        "# Compile the model with a optimizer and loss function\n",
        "vgg16_model.compile(optimizer='adam', loss='categorical_crossentropy', metrics=['accuracy'])\n",
        "\n",
        "checkpoint = ModelCheckpoint('/content/drive/MyDrive/multiclass_vgg16_best_weights.h5',  # File to save the weights to\n",
        "                             monitor='val_accuracy',  # Metric to monitor\n",
        "                             save_best_only=True,  # Save only the best weights\n",
        "                             mode='max')\n",
        "\n",
        "# Create an early stopping callback\n",
        "early_stopping = EarlyStopping(monitor='val_loss', patience=10)\n",
        "\n",
        "# Create a ReduceLROnPlateau callback with a factor of 0.1\n",
        "lr_scheduler = ReduceLROnPlateau(factor=0.1, patience=5)"
      ]
    },
    {
      "cell_type": "code",
      "execution_count": null,
      "metadata": {
        "colab": {
          "base_uri": "https://localhost:8080/"
        },
        "id": "hGuetkXESxSC",
        "outputId": "ef71fd3f-d3f5-4e48-f728-e6b82ff28bec"
      },
      "outputs": [
        {
          "output_type": "stream",
          "name": "stdout",
          "text": [
            "Epoch 1/40\n",
            "658/658 [==============================] - 46s 66ms/step - loss: 1.6071 - accuracy: 0.2819 - val_loss: 1.5604 - val_accuracy: 0.2643 - lr: 0.0010\n",
            "Epoch 2/40\n",
            "658/658 [==============================] - 43s 65ms/step - loss: 1.5367 - accuracy: 0.3214 - val_loss: 1.5449 - val_accuracy: 0.2571 - lr: 0.0010\n",
            "Epoch 3/40\n",
            "658/658 [==============================] - 47s 71ms/step - loss: 1.5244 - accuracy: 0.3047 - val_loss: 1.5462 - val_accuracy: 0.2750 - lr: 0.0010\n",
            "Epoch 4/40\n",
            "658/658 [==============================] - 42s 64ms/step - loss: 1.4980 - accuracy: 0.3229 - val_loss: 1.5039 - val_accuracy: 0.3286 - lr: 0.0010\n",
            "Epoch 5/40\n",
            "658/658 [==============================] - 43s 65ms/step - loss: 1.4828 - accuracy: 0.3457 - val_loss: 1.4482 - val_accuracy: 0.3429 - lr: 0.0010\n",
            "Epoch 6/40\n",
            "658/658 [==============================] - 48s 72ms/step - loss: 1.4662 - accuracy: 0.3450 - val_loss: 1.4536 - val_accuracy: 0.2929 - lr: 0.0010\n",
            "Epoch 7/40\n",
            "658/658 [==============================] - 42s 63ms/step - loss: 1.4577 - accuracy: 0.3518 - val_loss: 1.4409 - val_accuracy: 0.3393 - lr: 0.0010\n",
            "Epoch 8/40\n",
            "658/658 [==============================] - 42s 64ms/step - loss: 1.4531 - accuracy: 0.3594 - val_loss: 1.4861 - val_accuracy: 0.3250 - lr: 0.0010\n",
            "Epoch 9/40\n",
            "658/658 [==============================] - 42s 64ms/step - loss: 1.4438 - accuracy: 0.3647 - val_loss: 1.4387 - val_accuracy: 0.3143 - lr: 0.0010\n",
            "Epoch 10/40\n",
            "658/658 [==============================] - 46s 70ms/step - loss: 1.4371 - accuracy: 0.3594 - val_loss: 1.4705 - val_accuracy: 0.3214 - lr: 0.0010\n",
            "Epoch 11/40\n",
            "658/658 [==============================] - 43s 66ms/step - loss: 1.4302 - accuracy: 0.3663 - val_loss: 1.4090 - val_accuracy: 0.3536 - lr: 0.0010\n",
            "Epoch 12/40\n",
            "658/658 [==============================] - 45s 69ms/step - loss: 1.4164 - accuracy: 0.3913 - val_loss: 1.4434 - val_accuracy: 0.3607 - lr: 0.0010\n",
            "Epoch 13/40\n",
            "658/658 [==============================] - 42s 64ms/step - loss: 1.4143 - accuracy: 0.3913 - val_loss: 1.4092 - val_accuracy: 0.3464 - lr: 0.0010\n",
            "Epoch 14/40\n",
            "658/658 [==============================] - 45s 69ms/step - loss: 1.4083 - accuracy: 0.3815 - val_loss: 1.4066 - val_accuracy: 0.3429 - lr: 0.0010\n",
            "Epoch 15/40\n",
            "658/658 [==============================] - 41s 63ms/step - loss: 1.3992 - accuracy: 0.3777 - val_loss: 1.4337 - val_accuracy: 0.3643 - lr: 0.0010\n",
            "Epoch 16/40\n",
            "658/658 [==============================] - 42s 64ms/step - loss: 1.3909 - accuracy: 0.4058 - val_loss: 1.4090 - val_accuracy: 0.3607 - lr: 0.0010\n",
            "Epoch 17/40\n",
            "658/658 [==============================] - 48s 73ms/step - loss: 1.3750 - accuracy: 0.4035 - val_loss: 1.4062 - val_accuracy: 0.3786 - lr: 0.0010\n",
            "Epoch 18/40\n",
            "658/658 [==============================] - 43s 65ms/step - loss: 1.3716 - accuracy: 0.4179 - val_loss: 1.3827 - val_accuracy: 0.3679 - lr: 0.0010\n",
            "Epoch 19/40\n",
            "658/658 [==============================] - 43s 65ms/step - loss: 1.3606 - accuracy: 0.4050 - val_loss: 1.4294 - val_accuracy: 0.3429 - lr: 0.0010\n",
            "Epoch 20/40\n",
            "658/658 [==============================] - 42s 64ms/step - loss: 1.3501 - accuracy: 0.4073 - val_loss: 1.4205 - val_accuracy: 0.3393 - lr: 0.0010\n",
            "Epoch 21/40\n",
            "658/658 [==============================] - 43s 65ms/step - loss: 1.3544 - accuracy: 0.4217 - val_loss: 1.4052 - val_accuracy: 0.3643 - lr: 0.0010\n",
            "Epoch 22/40\n",
            "658/658 [==============================] - 47s 71ms/step - loss: 1.3529 - accuracy: 0.4149 - val_loss: 1.3866 - val_accuracy: 0.3857 - lr: 0.0010\n",
            "Epoch 23/40\n",
            "658/658 [==============================] - 44s 66ms/step - loss: 1.3362 - accuracy: 0.4081 - val_loss: 1.3886 - val_accuracy: 0.3750 - lr: 0.0010\n",
            "Epoch 24/40\n",
            "658/658 [==============================] - 48s 72ms/step - loss: 1.2838 - accuracy: 0.4757 - val_loss: 1.3784 - val_accuracy: 0.3750 - lr: 1.0000e-04\n",
            "Epoch 25/40\n",
            "658/658 [==============================] - 42s 64ms/step - loss: 1.2739 - accuracy: 0.4704 - val_loss: 1.3857 - val_accuracy: 0.3786 - lr: 1.0000e-04\n",
            "Epoch 26/40\n",
            "658/658 [==============================] - 45s 69ms/step - loss: 1.2759 - accuracy: 0.4726 - val_loss: 1.3827 - val_accuracy: 0.3821 - lr: 1.0000e-04\n",
            "Epoch 27/40\n",
            "658/658 [==============================] - 45s 68ms/step - loss: 1.2714 - accuracy: 0.4726 - val_loss: 1.3806 - val_accuracy: 0.3821 - lr: 1.0000e-04\n",
            "Epoch 28/40\n",
            "658/658 [==============================] - 44s 67ms/step - loss: 1.2697 - accuracy: 0.4787 - val_loss: 1.3835 - val_accuracy: 0.3714 - lr: 1.0000e-04\n",
            "Epoch 29/40\n",
            "658/658 [==============================] - 46s 71ms/step - loss: 1.2761 - accuracy: 0.4719 - val_loss: 1.3789 - val_accuracy: 0.3750 - lr: 1.0000e-04\n",
            "Epoch 30/40\n",
            "658/658 [==============================] - 43s 66ms/step - loss: 1.2704 - accuracy: 0.4757 - val_loss: 1.3781 - val_accuracy: 0.3893 - lr: 1.0000e-05\n",
            "Epoch 31/40\n",
            "658/658 [==============================] - 42s 65ms/step - loss: 1.2613 - accuracy: 0.4742 - val_loss: 1.3774 - val_accuracy: 0.3750 - lr: 1.0000e-05\n",
            "Epoch 32/40\n",
            "658/658 [==============================] - 44s 67ms/step - loss: 1.2590 - accuracy: 0.4749 - val_loss: 1.3773 - val_accuracy: 0.3750 - lr: 1.0000e-05\n",
            "Epoch 33/40\n",
            "658/658 [==============================] - 46s 70ms/step - loss: 1.2656 - accuracy: 0.4688 - val_loss: 1.3772 - val_accuracy: 0.3750 - lr: 1.0000e-05\n",
            "Epoch 34/40\n",
            "658/658 [==============================] - 41s 62ms/step - loss: 1.2645 - accuracy: 0.4795 - val_loss: 1.3774 - val_accuracy: 0.3750 - lr: 1.0000e-05\n",
            "Epoch 35/40\n",
            "658/658 [==============================] - 42s 63ms/step - loss: 1.2672 - accuracy: 0.4658 - val_loss: 1.3773 - val_accuracy: 0.3750 - lr: 1.0000e-05\n",
            "Epoch 36/40\n",
            "658/658 [==============================] - 46s 70ms/step - loss: 1.2602 - accuracy: 0.4886 - val_loss: 1.3774 - val_accuracy: 0.3750 - lr: 1.0000e-05\n",
            "Epoch 37/40\n",
            "658/658 [==============================] - 44s 67ms/step - loss: 1.2639 - accuracy: 0.4719 - val_loss: 1.3775 - val_accuracy: 0.3750 - lr: 1.0000e-05\n",
            "Epoch 38/40\n",
            "658/658 [==============================] - 43s 65ms/step - loss: 1.2655 - accuracy: 0.4734 - val_loss: 1.3775 - val_accuracy: 0.3750 - lr: 1.0000e-06\n",
            "Epoch 39/40\n",
            "658/658 [==============================] - 44s 67ms/step - loss: 1.2608 - accuracy: 0.4726 - val_loss: 1.3774 - val_accuracy: 0.3750 - lr: 1.0000e-06\n",
            "Epoch 40/40\n",
            "658/658 [==============================] - 44s 67ms/step - loss: 1.2632 - accuracy: 0.4795 - val_loss: 1.3774 - val_accuracy: 0.3750 - lr: 1.0000e-06\n"
          ]
        }
      ],
      "source": [
        "history = vgg16_model.fit(train_generator, epochs = 40, validation_data = val_generator, callbacks = [checkpoint, lr_scheduler, early_stopping], verbose=1)"
      ]
    },
    {
      "cell_type": "code",
      "execution_count": null,
      "metadata": {
        "colab": {
          "base_uri": "https://localhost:8080/",
          "height": 489
        },
        "id": "xIsdq2D1nAjA",
        "outputId": "f0f6371e-14c6-4044-88a1-09f96f7dbcaf"
      },
      "outputs": [
        {
          "output_type": "stream",
          "name": "stdout",
          "text": [
            "0.38928571343421936\n"
          ]
        },
        {
          "output_type": "display_data",
          "data": {
            "text/plain": [
              "<Figure size 640x480 with 1 Axes>"
            ],
            "image/png": "[encoded data removed]"
          },
          "metadata": {}
        }
      ],
      "source": [
        "# Load the model from the file\n",
        "model = load_model('/content/drive/MyDrive/multiclass_vgg16_best_weights.h5')\n",
        "\n",
        "# Extract the validation accuracy from the history object\n",
        "val_acc = history.history['val_accuracy']\n",
        "print(max(val_acc))\n",
        "\n",
        "# Plot the validation accuracy over the course of training\n",
        "plt.plot(val_acc)\n",
        "plt.title('Validation Accuracy')\n",
        "plt.xlabel('Epoch')\n",
        "plt.ylabel('Accuracy')\n",
        "plt.show()"
      ]
    },
    {
      "cell_type": "code",
      "source": [
        "test_generator.reset()\n",
        "test_predictions = model.predict(test_generator)\n",
        "\n",
        "label_map = dict((v, k) for k, v in test_generator.class_indices.items())\n",
        "print(label_map)\n",
        "\n",
        "actualLables_test = [label_map[k] for k in test_generator.classes]\n",
        "print(\"Length of actual validation labels:\", len(actualLables_test))\n",
        "\n",
        "# Convert the predictions to a one-hot encoded format\n",
        "test_predictions = np.argmax(test_predictions, axis = 1)\n",
        "predictedLables_test = [label_map[k] for k in test_predictions]\n",
        "\n",
        "# Calculate the confusion matrix\n",
        "from sklearn.metrics import confusion_matrix as sk_confusion_matrix\n",
        "confusion_matrix = sk_confusion_matrix(actualLables_test, predictedLables_test)\n",
        "\n",
        "print(confusion_matrix)\n",
        "\n",
        "test_loss, test_accuracy=model.evaluate(test_generator, batch_size=1)\n",
        "print(f\"Test Loss:     {test_loss}\")\n",
        "print(f\"Test Accuracy: {test_accuracy}\")"
      ],
      "metadata": {
        "colab": {
          "base_uri": "https://localhost:8080/"
        },
        "id": "GH89l4w8LNS1",
        "outputId": "7b31be1e-03a5-4bf5-9bb0-d044f104be1f"
      },
      "execution_count": null,
      "outputs": [
        {
          "output_type": "stream",
          "name": "stdout",
          "text": [
            "288/288 [==============================] - 4s 15ms/step\n",
            "{0: 'CS', 1: 'D', 2: 'DD', 3: 'SevereCS', 4: 'VSCS'}\n",
            "Length of actual validation labels: 288\n",
            "[[12  8 29  3 10]\n",
            " [ 6 17 28  0  4]\n",
            " [ 7 11 54  0 11]\n",
            " [ 9  2 17  5  8]\n",
            " [ 3  3 12  3 26]]\n",
            "288/288 [==============================] - 5s 16ms/step - loss: 1.3864 - accuracy: 0.3958\n",
            "Test Loss:     1.386436939239502\n",
            "Test Accuracy: 0.3958333432674408\n"
          ]
        }
      ]
    },
    {
      "cell_type": "markdown",
      "metadata": {
        "id": "SycdIfVdzG3j"
      },
      "source": [
        "# **Ensembling**"
      ]
    },
    {
      "cell_type": "code",
      "execution_count": null,
      "metadata": {
        "id": "lXtCk1JbzGcN"
      },
      "outputs": [],
      "source": [
        "resnet_model = tf.keras.models.load_model('/content/drive/MyDrive/multiclass_resnet50_best_weights.h5')\n",
        "xception_model = tf.keras.models.load_model('/content/drive/MyDrive/multiclass_xception_best_weights.h5')\n",
        "proposed_model = tf.keras.models.load_model('/content/drive/MyDrive/multiclass_proposed_best_weights.h5')\n",
        "inception_model = tf.keras.models.load_model('/content/drive/MyDrive/multiclass_inceptionv3_best_weights.h5')\n",
        "#vgg16_model = tf.keras.models.load_model('/content/drive/MyDrive/multiclass_vgg16_best_weights.h5')"
      ]
    },
    {
      "cell_type": "code",
      "execution_count": null,
      "metadata": {
        "id": "36mGwzUs1oKt"
      },
      "outputs": [],
      "source": [
        "seg_test_folders = '/content/drive/MyDrive/val'"
      ]
    },
    {
      "cell_type": "code",
      "execution_count": null,
      "metadata": {
        "id": "OMBBlr7t8AnN"
      },
      "outputs": [],
      "source": [
        "from collections import Counter\n",
        "def mode(my_list):\n",
        "    ct = Counter(my_list)\n",
        "    max_value = max(ct.values())\n",
        "    return ([key for key, value in ct.items() if value == max_value])"
      ]
    },
    {
      "cell_type": "code",
      "execution_count": null,
      "metadata": {
        "id": "TY-jveCV1kFQ"
      },
      "outputs": [],
      "source": [
        "import cv2\n",
        "true_value = []\n",
        "combined_model_pred = []\n",
        "xception_pred = []\n",
        "resnet_pred = []\n",
        "proposed_pred = []\n",
        "inception_pred = []\n",
        "vgg16_pred = []\n",
        "for folder in os.listdir(seg_test_folders):\n",
        "    \n",
        "    test_image_ids = os.listdir(os.path.join(seg_test_folders,folder))\n",
        "    \n",
        "    for image_id in test_image_ids[:int(len(test_image_ids))]:\n",
        "        \n",
        "        path = os.path.join(seg_test_folders,folder,image_id)\n",
        "        \n",
        "        true_value.append(val_generator.class_indices[folder])\n",
        "        img = cv2.resize(cv2.imread(path),(310,310))\n",
        "        img_normalized = img/255\n",
        "\n",
        "        resnet_image_prediction = np.argmax(resnet_model.predict(np.array([img_normalized])))\n",
        "        resnet_pred.append(resnet_image_prediction)\n",
        "        \n",
        "        xception_image_prediction = np.argmax(xception_model.predict(np.array([img_normalized])))\n",
        "        xception_pred.append(xception_image_prediction)\n",
        "        \n",
        "        inception_image_prediction = np.argmax(inception_model.predict(np.array([img_normalized])))\n",
        "        inception_pred.append(inception_image_prediction)\n",
        "        '''\n",
        "        vgg16_image_prediction = np.argmax(vgg16_model.predict(np.array([img_normalized])))\n",
        "        vgg16_pred.append(vgg16_image_prediction)\n",
        "        '''\n",
        "        \n",
        "        proposed_image_prediction = np.argmax(proposed_model.predict(np.array([img_normalized])))\n",
        "        proposed_pred.append(proposed_image_prediction)\n",
        "        \n",
        "        #giving high priority if they all predict something different\n",
        "        image_prediction = mode([resnet_image_prediction, proposed_image_prediction, xception_image_prediction, inception_image_prediction])                                  \n",
        "        combined_model_pred.append(image_prediction)"
      ]
    },
    {
      "cell_type": "code",
      "execution_count": null,
      "metadata": {
        "id": "v_6iQEOSQCqE"
      },
      "outputs": [],
      "source": [
        "classes = val_generator.class_indices.keys()\n",
        "TP_count = [true_value[i] == combined_model_pred[i] for i in range(len(true_value))]\n",
        "model_accuracy = np.sum(TP_count)/len(TP_count)\n",
        "print('Model Accuracy', model_accuracy)"
      ]
    },
    {
      "cell_type": "code",
      "execution_count": null,
      "metadata": {
        "id": "lpeVyGJK9BQJ"
      },
      "outputs": [],
      "source": [
        "import itertools\n",
        "def clf_report(true_value, model_pred):\n",
        "    classes = val_generator.class_indices.keys()\n",
        "    classes = val_generator.class_indices.keys()\n",
        "    TP_count = [true_value[i] == combined_model_pred[i] for i in range(len(true_value))]\n",
        "    model_accuracy = np.sum(TP_count)/len(TP_count)\n",
        "    print('Model Accuracy', model_accuracy)\n",
        "    \n",
        "    '''\n",
        "    plt.figure(figsize=(7,7))\n",
        "    cm = confusion_matrix(true_value,model_pred)\n",
        "    plt.imshow(cm,interpolation='nearest',cmap=plt.cm.viridis)\n",
        "    plt.title('Confusion Matrix')\n",
        "    plt.colorbar()\n",
        "    tick_marks = np.arange(len(classes))\n",
        "    plt.xticks(tick_marks, classes, rotation=45)\n",
        "    plt.yticks(tick_marks, classes)\n",
        "    thresh = cm.max()*0.8\n",
        "    for i,j in itertools.product(range(cm.shape[0]),range(cm.shape[1])):\n",
        "        plt.text(j,i,cm[i,j],\n",
        "                horizontalalignment=\"center\",\n",
        "                color=\"black\" if cm[i,j] > thresh else \"white\")\n",
        "        pass\n",
        "    \n",
        "    plt.ylabel('True Label')\n",
        "    plt.xlabel('Predicted Label')\n",
        "    pass\n",
        "    print(classification_report(true_value, model_pred, target_names = list(classes)))\n",
        "    '''"
      ]
    },
    {
      "cell_type": "code",
      "execution_count": null,
      "metadata": {
        "colab": {
          "base_uri": "https://localhost:8080/"
        },
        "id": "ia8M3BAv879Z",
        "outputId": "52394671-3753-4812-bfd6-0dd48727e909"
      },
      "outputs": [
        {
          "name": "stdout",
          "output_type": "stream",
          "text": [
            "Model Accuracy 0.273972602739726\n"
          ]
        }
      ],
      "source": [
        "from sklearn.metrics import classification_report, confusion_matrix\n",
        "combined_model_pred = [c[0] for c in combined_model_pred]\n",
        "clf_report(true_value, combined_model_pred)"
      ]
    },
    {
      "cell_type": "markdown",
      "metadata": {
        "id": "Rh8ZdwDA9QLB"
      },
      "source": [
        "**Testing**"
      ]
    },
    {
      "cell_type": "code",
      "execution_count": null,
      "metadata": {
        "id": "N-SfURTKEIM1"
      },
      "outputs": [],
      "source": [
        "model.load_weights('/content/drive/MyDrive/multiclass_proposed_best_weights.h5')"
      ]
    },
    {
      "cell_type": "code",
      "execution_count": null,
      "metadata": {
        "id": "ecs_lYUrEVmQ"
      },
      "outputs": [],
      "source": [
        "# Make predictions on the validation data\n",
        "predictions = model.predict(val_generator, steps=len(val_generator))\n",
        "\n",
        "# Convert the predictions to a class label\n",
        "predicted_classes = np.argmax(predictions, axis=1)"
      ]
    },
    {
      "cell_type": "code",
      "execution_count": null,
      "metadata": {
        "id": "jwamB8T8EeRJ"
      },
      "outputs": [],
      "source": [
        "from sklearn.metrics import confusion_matrix\n",
        "\n",
        "# Compute the confusion matrix\n",
        "confusion_matrix = confusion_matrix(val_generator.classes, predicted_classes)\n",
        "print(confusion_matrix)"
      ]
    },
    {
      "cell_type": "code",
      "execution_count": null,
      "metadata": {
        "id": "Ylkvd7cQEfE6"
      },
      "outputs": [],
      "source": [
        "import matplotlib.pyplot as plt\n",
        "\n",
        "# Normalize the confusion matrix\n",
        "normalized_confusion_matrix = confusion_matrix / confusion_matrix.sum(axis=1)[:, np.newaxis]\n",
        "\n",
        "# Plot the confusion matrix\n",
        "plt.imshow(confusion_matrix, interpolation='nearest', cmap=plt.cm.Blues)\n",
        "plt.title('Confusion Matrix')\n",
        "plt.colorbar()\n",
        "tick_marks = np.arange(num_classes)\n",
        "plt.xticks(tick_marks, class_names, rotation=45)\n",
        "plt.yticks(tick_marks, class_names)\n",
        "plt.ylabel('True label')\n",
        "plt.xlabel('Predicted label')\n",
        "\n",
        "# Annotate the cells with the values\n",
        "for i in range(num_classes):\n",
        "    for j in range(num_classes):\n",
        "        text = plt.text(j, i, confusion_matrix[i, j], ha=\"center\", va=\"center\", color=\"w\")\n",
        "\n",
        "plt.show()"
      ]
    },
    {
      "cell_type": "code",
      "execution_count": null,
      "metadata": {
        "id": "3vsfe4BWDaWB"
      },
      "outputs": [],
      "source": [
        "test_dir = '/content/drive/MyDrive/multiclass_2022'"
      ]
    },
    {
      "cell_type": "code",
      "execution_count": null,
      "metadata": {
        "colab": {
          "base_uri": "https://localhost:8080/"
        },
        "id": "0TxWY8HkCoRi",
        "outputId": "f65fbb35-5ed0-471f-c243-9a39d4ab6cc7"
      },
      "outputs": [
        {
          "name": "stdout",
          "output_type": "stream",
          "text": [
            "Found 41 images belonging to 5 classes.\n"
          ]
        }
      ],
      "source": [
        "test_datagen = ImageDataGenerator(rescale = 1./255)\n",
        "test_generator = test_datagen.flow_from_directory(test_dir, target_size = (310, 310), batch_size = 1, class_mode = 'categorical', shuffle = False)"
      ]
    },
    {
      "cell_type": "code",
      "execution_count": null,
      "metadata": {
        "colab": {
          "base_uri": "https://localhost:8080/",
          "height": 166
        },
        "id": "5LHD_e36Drx3",
        "outputId": "a16d92d3-ef52-4595-d6af-02a46a4ea769"
      },
      "outputs": [
        {
          "ename": "AttributeError",
          "evalue": "ignored",
          "output_type": "error",
          "traceback": [
            "\u001b[0;31m---------------------------------------------------------------------------\u001b[0m",
            "\u001b[0;31mAttributeError\u001b[0m                            Traceback (most recent call last)",
            "\u001b[0;32m<ipython-input-11-abb66d413c5e>\u001b[0m in \u001b[0;36m<module>\u001b[0;34m\u001b[0m\n\u001b[0;32m----> 1\u001b[0;31m \u001b[0mpredictions\u001b[0m \u001b[0;34m=\u001b[0m \u001b[0mmodel\u001b[0m\u001b[0;34m.\u001b[0m\u001b[0mpredict_geenrator\u001b[0m\u001b[0;34m(\u001b[0m\u001b[0mtest_generator\u001b[0m\u001b[0;34m,\u001b[0m \u001b[0msteps\u001b[0m \u001b[0;34m=\u001b[0m \u001b[0mlen\u001b[0m\u001b[0;34m(\u001b[0m\u001b[0mtest_geenrator\u001b[0m\u001b[0;34m)\u001b[0m\u001b[0;34m)\u001b[0m\u001b[0;34m\u001b[0m\u001b[0;34m\u001b[0m\u001b[0m\n\u001b[0m",
            "\u001b[0;31mAttributeError\u001b[0m: 'Functional' object has no attribute 'predict_geenrator'"
          ]
        }
      ],
      "source": [
        "predictions = model.predict_geenrator(test_generator, steps = len(test_generator))"
      ]
    }
  ],
  "metadata": {
    "colab": {
      "collapsed_sections": [
        "SycdIfVdzG3j"
      ],
      "provenance": []
    },
    "gpuClass": "standard",
    "kernelspec": {
      "display_name": "Python 3",
      "name": "python3"
    },
    "language_info": {
      "name": "python"
    },
    "accelerator": "GPU"
  },
  "nbformat": 4,
  "nbformat_minor": 0
}